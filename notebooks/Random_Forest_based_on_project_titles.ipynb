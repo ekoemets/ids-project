{
 "cells": [
  {
   "cell_type": "markdown",
   "metadata": {},
   "source": [
    "# Random Forest Classifier based on project titles"
   ]
  },
  {
   "cell_type": "markdown",
   "metadata": {},
   "source": [
    "First off lets import all the basic libraries and import all the data that Emil has engineered."
   ]
  },
  {
   "cell_type": "code",
   "execution_count": 1,
   "metadata": {},
   "outputs": [],
   "source": [
    "import pandas as pd\n",
    "import numpy as np\n",
    "from matplotlib import pyplot as plt\n",
    "from sklearn.model_selection import train_test_split\n",
    "from sklearn.ensemble import RandomForestClassifier\n",
    "from sklearn.metrics import accuracy_score\n",
    "import pickle"
   ]
  },
  {
   "cell_type": "code",
   "execution_count": 4,
   "metadata": {},
   "outputs": [],
   "source": [
    "data = pd.read_csv('../data/processed/02-ks-projects-engineered.csv')"
   ]
  },
  {
   "cell_type": "code",
   "execution_count": 5,
   "metadata": {},
   "outputs": [
    {
     "data": {
      "text/html": [
       "<div>\n",
       "<style scoped>\n",
       "    .dataframe tbody tr th:only-of-type {\n",
       "        vertical-align: middle;\n",
       "    }\n",
       "\n",
       "    .dataframe tbody tr th {\n",
       "        vertical-align: top;\n",
       "    }\n",
       "\n",
       "    .dataframe thead th {\n",
       "        text-align: right;\n",
       "    }\n",
       "</style>\n",
       "<table border=\"1\" class=\"dataframe\">\n",
       "  <thead>\n",
       "    <tr style=\"text-align: right;\">\n",
       "      <th></th>\n",
       "      <th>ID</th>\n",
       "      <th>name</th>\n",
       "      <th>category</th>\n",
       "      <th>main_category</th>\n",
       "      <th>currency</th>\n",
       "      <th>deadline</th>\n",
       "      <th>launched</th>\n",
       "      <th>state</th>\n",
       "      <th>backers</th>\n",
       "      <th>country</th>\n",
       "      <th>...</th>\n",
       "      <th>deadline_year</th>\n",
       "      <th>deadline_month</th>\n",
       "      <th>deadline_day</th>\n",
       "      <th>launched_year</th>\n",
       "      <th>launched_month</th>\n",
       "      <th>launched_day</th>\n",
       "      <th>launched_hour</th>\n",
       "      <th>launched_minute</th>\n",
       "      <th>name_length</th>\n",
       "      <th>name_words</th>\n",
       "    </tr>\n",
       "  </thead>\n",
       "  <tbody>\n",
       "    <tr>\n",
       "      <th>0</th>\n",
       "      <td>1000002330</td>\n",
       "      <td>The Songs of Adelaide &amp; Abullah</td>\n",
       "      <td>Poetry</td>\n",
       "      <td>Publishing</td>\n",
       "      <td>GBP</td>\n",
       "      <td>2015-10-09</td>\n",
       "      <td>2015-08-11 12:12:28</td>\n",
       "      <td>failed</td>\n",
       "      <td>0</td>\n",
       "      <td>GB</td>\n",
       "      <td>...</td>\n",
       "      <td>2015</td>\n",
       "      <td>October</td>\n",
       "      <td>Friday</td>\n",
       "      <td>2015</td>\n",
       "      <td>August</td>\n",
       "      <td>Tuesday</td>\n",
       "      <td>12</td>\n",
       "      <td>12</td>\n",
       "      <td>31</td>\n",
       "      <td>5</td>\n",
       "    </tr>\n",
       "    <tr>\n",
       "      <th>1</th>\n",
       "      <td>1000003930</td>\n",
       "      <td>Greeting From Earth: ZGAC Arts Capsule For ET</td>\n",
       "      <td>Narrative Film</td>\n",
       "      <td>Film &amp; Video</td>\n",
       "      <td>USD</td>\n",
       "      <td>2017-11-01</td>\n",
       "      <td>2017-09-02 04:43:57</td>\n",
       "      <td>failed</td>\n",
       "      <td>15</td>\n",
       "      <td>US</td>\n",
       "      <td>...</td>\n",
       "      <td>2017</td>\n",
       "      <td>November</td>\n",
       "      <td>Wednesday</td>\n",
       "      <td>2017</td>\n",
       "      <td>September</td>\n",
       "      <td>Saturday</td>\n",
       "      <td>4</td>\n",
       "      <td>43</td>\n",
       "      <td>45</td>\n",
       "      <td>8</td>\n",
       "    </tr>\n",
       "    <tr>\n",
       "      <th>2</th>\n",
       "      <td>1000004038</td>\n",
       "      <td>Where is Hank?</td>\n",
       "      <td>Narrative Film</td>\n",
       "      <td>Film &amp; Video</td>\n",
       "      <td>USD</td>\n",
       "      <td>2013-02-26</td>\n",
       "      <td>2013-01-12 00:20:50</td>\n",
       "      <td>failed</td>\n",
       "      <td>3</td>\n",
       "      <td>US</td>\n",
       "      <td>...</td>\n",
       "      <td>2013</td>\n",
       "      <td>February</td>\n",
       "      <td>Tuesday</td>\n",
       "      <td>2013</td>\n",
       "      <td>January</td>\n",
       "      <td>Saturday</td>\n",
       "      <td>0</td>\n",
       "      <td>20</td>\n",
       "      <td>14</td>\n",
       "      <td>3</td>\n",
       "    </tr>\n",
       "    <tr>\n",
       "      <th>3</th>\n",
       "      <td>1000007540</td>\n",
       "      <td>ToshiCapital Rekordz Needs Help to Complete Album</td>\n",
       "      <td>Music</td>\n",
       "      <td>Music</td>\n",
       "      <td>USD</td>\n",
       "      <td>2012-04-16</td>\n",
       "      <td>2012-03-17 03:24:11</td>\n",
       "      <td>failed</td>\n",
       "      <td>1</td>\n",
       "      <td>US</td>\n",
       "      <td>...</td>\n",
       "      <td>2012</td>\n",
       "      <td>April</td>\n",
       "      <td>Monday</td>\n",
       "      <td>2012</td>\n",
       "      <td>March</td>\n",
       "      <td>Saturday</td>\n",
       "      <td>3</td>\n",
       "      <td>24</td>\n",
       "      <td>49</td>\n",
       "      <td>7</td>\n",
       "    </tr>\n",
       "    <tr>\n",
       "      <th>4</th>\n",
       "      <td>1000014025</td>\n",
       "      <td>Monarch Espresso Bar</td>\n",
       "      <td>Restaurants</td>\n",
       "      <td>Food</td>\n",
       "      <td>USD</td>\n",
       "      <td>2016-04-01</td>\n",
       "      <td>2016-02-26 13:38:27</td>\n",
       "      <td>successful</td>\n",
       "      <td>224</td>\n",
       "      <td>US</td>\n",
       "      <td>...</td>\n",
       "      <td>2016</td>\n",
       "      <td>April</td>\n",
       "      <td>Friday</td>\n",
       "      <td>2016</td>\n",
       "      <td>February</td>\n",
       "      <td>Friday</td>\n",
       "      <td>13</td>\n",
       "      <td>38</td>\n",
       "      <td>20</td>\n",
       "      <td>3</td>\n",
       "    </tr>\n",
       "  </tbody>\n",
       "</table>\n",
       "<p>5 rows × 22 columns</p>\n",
       "</div>"
      ],
      "text/plain": [
       "           ID                                               name  \\\n",
       "0  1000002330                    The Songs of Adelaide & Abullah   \n",
       "1  1000003930      Greeting From Earth: ZGAC Arts Capsule For ET   \n",
       "2  1000004038                                     Where is Hank?   \n",
       "3  1000007540  ToshiCapital Rekordz Needs Help to Complete Album   \n",
       "4  1000014025                               Monarch Espresso Bar   \n",
       "\n",
       "         category main_category currency    deadline             launched  \\\n",
       "0          Poetry    Publishing      GBP  2015-10-09  2015-08-11 12:12:28   \n",
       "1  Narrative Film  Film & Video      USD  2017-11-01  2017-09-02 04:43:57   \n",
       "2  Narrative Film  Film & Video      USD  2013-02-26  2013-01-12 00:20:50   \n",
       "3           Music         Music      USD  2012-04-16  2012-03-17 03:24:11   \n",
       "4     Restaurants          Food      USD  2016-04-01  2016-02-26 13:38:27   \n",
       "\n",
       "        state  backers country  ...  deadline_year  deadline_month  \\\n",
       "0      failed        0      GB  ...           2015         October   \n",
       "1      failed       15      US  ...           2017        November   \n",
       "2      failed        3      US  ...           2013        February   \n",
       "3      failed        1      US  ...           2012           April   \n",
       "4  successful      224      US  ...           2016           April   \n",
       "\n",
       "   deadline_day launched_year launched_month  launched_day launched_hour  \\\n",
       "0        Friday          2015         August       Tuesday            12   \n",
       "1     Wednesday          2017      September      Saturday             4   \n",
       "2       Tuesday          2013        January      Saturday             0   \n",
       "3        Monday          2012          March      Saturday             3   \n",
       "4        Friday          2016       February        Friday            13   \n",
       "\n",
       "  launched_minute  name_length  name_words  \n",
       "0              12           31           5  \n",
       "1              43           45           8  \n",
       "2              20           14           3  \n",
       "3              24           49           7  \n",
       "4              38           20           3  \n",
       "\n",
       "[5 rows x 22 columns]"
      ]
     },
     "execution_count": 5,
     "metadata": {},
     "output_type": "execute_result"
    }
   ],
   "source": [
    "data.head()"
   ]
  },
  {
   "cell_type": "markdown",
   "metadata": {},
   "source": [
    "Before I start training a specific classifier, I want to find out the most used words from the names of the projects."
   ]
  },
  {
   "cell_type": "code",
   "execution_count": 6,
   "metadata": {},
   "outputs": [],
   "source": [
    "occurences = dict()\n",
    "for name in data.name:\n",
    "    name = name.strip()\n",
    "    name = name.strip('[\",.-!#¤%&/()=?@£$€\\]')\n",
    "    name = name.replace(\"  \", \" \")\n",
    "    words = name.split(\" \")\n",
    "    for word in words:\n",
    "        word = word.lower()\n",
    "        if(word in occurences):\n",
    "            occurences[word] += 1\n",
    "        else:\n",
    "            occurences[word] = 1"
   ]
  },
  {
   "cell_type": "code",
   "execution_count": 7,
   "metadata": {},
   "outputs": [
    {
     "data": {
      "text/plain": [
       "{'the': 90469,\n",
       " '-': 46803,\n",
       " 'a': 44159,\n",
       " 'of': 32948,\n",
       " 'and': 22233,\n",
       " 'for': 20733,\n",
       " 'to': 18105,\n",
       " 'in': 15620,\n",
       " '&': 15611,\n",
       " 'new': 12151,\n",
       " 'album': 11473,\n",
       " 'film': 10094,\n",
       " 'project': 9369,\n",
       " 'by': 8837,\n",
       " 'book': 8189,\n",
       " 'your': 7964,\n",
       " 'with': 7401,\n",
       " 'game': 7094,\n",
       " 'art': 6866,\n",
       " 'on': 6435}"
      ]
     },
     "execution_count": 7,
     "metadata": {},
     "output_type": "execute_result"
    }
   ],
   "source": [
    "dict(sorted(occurences.items(), key=lambda item: item[1], reverse=True)[0:20])"
   ]
  },
  {
   "cell_type": "code",
   "execution_count": 8,
   "metadata": {},
   "outputs": [
    {
     "data": {
      "text/plain": [
       "329421"
      ]
     },
     "execution_count": 8,
     "metadata": {},
     "output_type": "execute_result"
    }
   ],
   "source": [
    "len(data)"
   ]
  },
  {
   "cell_type": "markdown",
   "metadata": {},
   "source": [
    "As we can see, nearly only third of the projects contain the word \"the\", which is a lot less than I thought.\n",
    "However my first approach to train a classifier is by creating binary fields whether the title included specific word or not and create those kind of fields for top 20 words, from which roughly first 10 of them are conjunctions or articles and the last 10 have already a bit more meaning in them."
   ]
  },
  {
   "cell_type": "code",
   "execution_count": 9,
   "metadata": {},
   "outputs": [
    {
     "name": "stdout",
     "output_type": "stream",
     "text": [
      "the\n",
      "-\n",
      "a\n",
      "of\n",
      "and\n",
      "for\n",
      "to\n",
      "in\n",
      "&\n",
      "new\n",
      "album\n",
      "film\n",
      "project\n",
      "by\n",
      "book\n",
      "your\n",
      "with\n",
      "game\n",
      "art\n",
      "on\n"
     ]
    }
   ],
   "source": [
    "i = 0\n",
    "for (key,value) in sorted(occurences.items(), key=lambda item: item[1], reverse=True):\n",
    "    doesOccure = []\n",
    "    print(key)\n",
    "    for title in data.name:\n",
    "        if(key in title.lower()):\n",
    "            doesOccure.append(1)\n",
    "        else:\n",
    "            doesOccure.append(0)\n",
    "    data.insert(len(data.columns),\"Title Contains \"+key, doesOccure, True)\n",
    "    if(i == 19):\n",
    "        break\n",
    "    i+=1"
   ]
  },
  {
   "cell_type": "code",
   "execution_count": 10,
   "metadata": {},
   "outputs": [
    {
     "data": {
      "text/html": [
       "<div>\n",
       "<style scoped>\n",
       "    .dataframe tbody tr th:only-of-type {\n",
       "        vertical-align: middle;\n",
       "    }\n",
       "\n",
       "    .dataframe tbody tr th {\n",
       "        vertical-align: top;\n",
       "    }\n",
       "\n",
       "    .dataframe thead th {\n",
       "        text-align: right;\n",
       "    }\n",
       "</style>\n",
       "<table border=\"1\" class=\"dataframe\">\n",
       "  <thead>\n",
       "    <tr style=\"text-align: right;\">\n",
       "      <th></th>\n",
       "      <th>ID</th>\n",
       "      <th>name</th>\n",
       "      <th>category</th>\n",
       "      <th>main_category</th>\n",
       "      <th>currency</th>\n",
       "      <th>deadline</th>\n",
       "      <th>launched</th>\n",
       "      <th>state</th>\n",
       "      <th>backers</th>\n",
       "      <th>country</th>\n",
       "      <th>...</th>\n",
       "      <th>Title Contains album</th>\n",
       "      <th>Title Contains film</th>\n",
       "      <th>Title Contains project</th>\n",
       "      <th>Title Contains by</th>\n",
       "      <th>Title Contains book</th>\n",
       "      <th>Title Contains your</th>\n",
       "      <th>Title Contains with</th>\n",
       "      <th>Title Contains game</th>\n",
       "      <th>Title Contains art</th>\n",
       "      <th>Title Contains on</th>\n",
       "    </tr>\n",
       "  </thead>\n",
       "  <tbody>\n",
       "    <tr>\n",
       "      <th>0</th>\n",
       "      <td>1000002330</td>\n",
       "      <td>The Songs of Adelaide &amp; Abullah</td>\n",
       "      <td>Poetry</td>\n",
       "      <td>Publishing</td>\n",
       "      <td>GBP</td>\n",
       "      <td>2015-10-09</td>\n",
       "      <td>2015-08-11 12:12:28</td>\n",
       "      <td>failed</td>\n",
       "      <td>0</td>\n",
       "      <td>GB</td>\n",
       "      <td>...</td>\n",
       "      <td>0</td>\n",
       "      <td>0</td>\n",
       "      <td>0</td>\n",
       "      <td>0</td>\n",
       "      <td>0</td>\n",
       "      <td>0</td>\n",
       "      <td>0</td>\n",
       "      <td>0</td>\n",
       "      <td>0</td>\n",
       "      <td>1</td>\n",
       "    </tr>\n",
       "    <tr>\n",
       "      <th>1</th>\n",
       "      <td>1000003930</td>\n",
       "      <td>Greeting From Earth: ZGAC Arts Capsule For ET</td>\n",
       "      <td>Narrative Film</td>\n",
       "      <td>Film &amp; Video</td>\n",
       "      <td>USD</td>\n",
       "      <td>2017-11-01</td>\n",
       "      <td>2017-09-02 04:43:57</td>\n",
       "      <td>failed</td>\n",
       "      <td>15</td>\n",
       "      <td>US</td>\n",
       "      <td>...</td>\n",
       "      <td>0</td>\n",
       "      <td>0</td>\n",
       "      <td>0</td>\n",
       "      <td>0</td>\n",
       "      <td>0</td>\n",
       "      <td>0</td>\n",
       "      <td>0</td>\n",
       "      <td>0</td>\n",
       "      <td>1</td>\n",
       "      <td>0</td>\n",
       "    </tr>\n",
       "    <tr>\n",
       "      <th>2</th>\n",
       "      <td>1000004038</td>\n",
       "      <td>Where is Hank?</td>\n",
       "      <td>Narrative Film</td>\n",
       "      <td>Film &amp; Video</td>\n",
       "      <td>USD</td>\n",
       "      <td>2013-02-26</td>\n",
       "      <td>2013-01-12 00:20:50</td>\n",
       "      <td>failed</td>\n",
       "      <td>3</td>\n",
       "      <td>US</td>\n",
       "      <td>...</td>\n",
       "      <td>0</td>\n",
       "      <td>0</td>\n",
       "      <td>0</td>\n",
       "      <td>0</td>\n",
       "      <td>0</td>\n",
       "      <td>0</td>\n",
       "      <td>0</td>\n",
       "      <td>0</td>\n",
       "      <td>0</td>\n",
       "      <td>0</td>\n",
       "    </tr>\n",
       "    <tr>\n",
       "      <th>3</th>\n",
       "      <td>1000007540</td>\n",
       "      <td>ToshiCapital Rekordz Needs Help to Complete Album</td>\n",
       "      <td>Music</td>\n",
       "      <td>Music</td>\n",
       "      <td>USD</td>\n",
       "      <td>2012-04-16</td>\n",
       "      <td>2012-03-17 03:24:11</td>\n",
       "      <td>failed</td>\n",
       "      <td>1</td>\n",
       "      <td>US</td>\n",
       "      <td>...</td>\n",
       "      <td>1</td>\n",
       "      <td>0</td>\n",
       "      <td>0</td>\n",
       "      <td>0</td>\n",
       "      <td>0</td>\n",
       "      <td>0</td>\n",
       "      <td>0</td>\n",
       "      <td>0</td>\n",
       "      <td>0</td>\n",
       "      <td>0</td>\n",
       "    </tr>\n",
       "    <tr>\n",
       "      <th>4</th>\n",
       "      <td>1000014025</td>\n",
       "      <td>Monarch Espresso Bar</td>\n",
       "      <td>Restaurants</td>\n",
       "      <td>Food</td>\n",
       "      <td>USD</td>\n",
       "      <td>2016-04-01</td>\n",
       "      <td>2016-02-26 13:38:27</td>\n",
       "      <td>successful</td>\n",
       "      <td>224</td>\n",
       "      <td>US</td>\n",
       "      <td>...</td>\n",
       "      <td>0</td>\n",
       "      <td>0</td>\n",
       "      <td>0</td>\n",
       "      <td>0</td>\n",
       "      <td>0</td>\n",
       "      <td>0</td>\n",
       "      <td>0</td>\n",
       "      <td>0</td>\n",
       "      <td>0</td>\n",
       "      <td>1</td>\n",
       "    </tr>\n",
       "  </tbody>\n",
       "</table>\n",
       "<p>5 rows × 42 columns</p>\n",
       "</div>"
      ],
      "text/plain": [
       "           ID                                               name  \\\n",
       "0  1000002330                    The Songs of Adelaide & Abullah   \n",
       "1  1000003930      Greeting From Earth: ZGAC Arts Capsule For ET   \n",
       "2  1000004038                                     Where is Hank?   \n",
       "3  1000007540  ToshiCapital Rekordz Needs Help to Complete Album   \n",
       "4  1000014025                               Monarch Espresso Bar   \n",
       "\n",
       "         category main_category currency    deadline             launched  \\\n",
       "0          Poetry    Publishing      GBP  2015-10-09  2015-08-11 12:12:28   \n",
       "1  Narrative Film  Film & Video      USD  2017-11-01  2017-09-02 04:43:57   \n",
       "2  Narrative Film  Film & Video      USD  2013-02-26  2013-01-12 00:20:50   \n",
       "3           Music         Music      USD  2012-04-16  2012-03-17 03:24:11   \n",
       "4     Restaurants          Food      USD  2016-04-01  2016-02-26 13:38:27   \n",
       "\n",
       "        state  backers country  ...  Title Contains album  \\\n",
       "0      failed        0      GB  ...                     0   \n",
       "1      failed       15      US  ...                     0   \n",
       "2      failed        3      US  ...                     0   \n",
       "3      failed        1      US  ...                     1   \n",
       "4  successful      224      US  ...                     0   \n",
       "\n",
       "   Title Contains film  Title Contains project Title Contains by  \\\n",
       "0                    0                       0                 0   \n",
       "1                    0                       0                 0   \n",
       "2                    0                       0                 0   \n",
       "3                    0                       0                 0   \n",
       "4                    0                       0                 0   \n",
       "\n",
       "  Title Contains book  Title Contains your Title Contains with  \\\n",
       "0                   0                    0                   0   \n",
       "1                   0                    0                   0   \n",
       "2                   0                    0                   0   \n",
       "3                   0                    0                   0   \n",
       "4                   0                    0                   0   \n",
       "\n",
       "  Title Contains game  Title Contains art  Title Contains on  \n",
       "0                   0                   0                  1  \n",
       "1                   0                   1                  0  \n",
       "2                   0                   0                  0  \n",
       "3                   0                   0                  0  \n",
       "4                   0                   0                  1  \n",
       "\n",
       "[5 rows x 42 columns]"
      ]
     },
     "execution_count": 10,
     "metadata": {},
     "output_type": "execute_result"
    }
   ],
   "source": [
    "data.head()"
   ]
  },
  {
   "cell_type": "markdown",
   "metadata": {},
   "source": [
    "Everything seems to be working, so now its time to delete all of the cells that we did not create (except for usd_goal_real) and see how we do"
   ]
  },
  {
   "cell_type": "code",
   "execution_count": 11,
   "metadata": {},
   "outputs": [
    {
     "name": "stdout",
     "output_type": "stream",
     "text": [
      "Index(['ID', 'name', 'category', 'main_category', 'currency', 'deadline',\n",
      "       'launched', 'state', 'backers', 'country', 'usd_pledged_real',\n",
      "       'usd_goal_real', 'deadline_year', 'deadline_month', 'deadline_day',\n",
      "       'launched_year', 'launched_month', 'launched_day', 'launched_hour',\n",
      "       'launched_minute', 'name_length', 'name_words', 'Title Contains the',\n",
      "       'Title Contains -', 'Title Contains a', 'Title Contains of',\n",
      "       'Title Contains and', 'Title Contains for', 'Title Contains to',\n",
      "       'Title Contains in', 'Title Contains &', 'Title Contains new',\n",
      "       'Title Contains album', 'Title Contains film', 'Title Contains project',\n",
      "       'Title Contains by', 'Title Contains book', 'Title Contains your',\n",
      "       'Title Contains with', 'Title Contains game', 'Title Contains art',\n",
      "       'Title Contains on'],\n",
      "      dtype='object')\n"
     ]
    }
   ],
   "source": [
    "print(data.columns)\n",
    "data = data.drop(columns= [\"name\",\"launched\",\"deadline\",\"usd_pledged_real\",\"backers\",\"category\",\"country\",\"main_category\",\"currency\",\"deadline_month\",\"deadline_day\",\"deadline_year\",\"launched_year\",\"launched_month\",\"launched_day\",\"launched_hour\",\"launched_minute\"])\n",
    "data.state = data.state.map(dict(failed=0,successful=1))"
   ]
  },
  {
   "cell_type": "markdown",
   "metadata": {},
   "source": [
    "Now lets split the data up for training and testing (with random_state=1)"
   ]
  },
  {
   "cell_type": "code",
   "execution_count": 12,
   "metadata": {},
   "outputs": [],
   "source": [
    "X = data.copy()\n",
    "X = X.drop(columns=[\"state\"])\n",
    "y= data[\"state\"].copy()\n",
    "X_train, X_test, y_train, y_test = train_test_split(X, y, train_size=0.7, random_state=1)"
   ]
  },
  {
   "cell_type": "code",
   "execution_count": 13,
   "metadata": {},
   "outputs": [],
   "source": [
    "rf = RandomForestClassifier(n_estimators=100, max_depth=4).fit(X_train, y_train)"
   ]
  },
  {
   "cell_type": "code",
   "execution_count": 14,
   "metadata": {},
   "outputs": [],
   "source": [
    "#Learned this from the internet!\n",
    "from sklearn.model_selection import RandomizedSearchCV\n",
    "# Number of trees in random forest\n",
    "n_estimators = [int(x) for x in np.linspace(start = 200, stop = 1600, num = 200)]\n",
    "# Number of features to consider at every split\n",
    "max_features = ['auto', 'sqrt']\n",
    "# Maximum number of levels in tree\n",
    "max_depth = [int(x) for x in np.linspace(10, 110, num = 20)]\n",
    "max_depth.append(None)\n",
    "# Minimum number of samples required to split a node\n",
    "min_samples_split = [2, 4, 6, 8, 10]\n",
    "# Minimum number of samples required at each leaf node\n",
    "min_samples_leaf = [1, 2, 4]\n",
    "# Method of selecting samples for training each tree\n",
    "bootstrap = [True, False]\n",
    "# Create the random grid\n",
    "random_grid = {'n_estimators': n_estimators,\n",
    "               'max_features': max_features,\n",
    "               'max_depth': max_depth,\n",
    "               'min_samples_split': min_samples_split,\n",
    "               'min_samples_leaf': min_samples_leaf,\n",
    "               'bootstrap': bootstrap}"
   ]
  },
  {
   "cell_type": "code",
   "execution_count": 16,
   "metadata": {},
   "outputs": [
    {
     "name": "stdout",
     "output_type": "stream",
     "text": [
      "Fitting 3 folds for each of 10 candidates, totalling 30 fits\n"
     ]
    },
    {
     "name": "stderr",
     "output_type": "stream",
     "text": [
      "[Parallel(n_jobs=-1)]: Using backend LokyBackend with 8 concurrent workers.\n",
      "[Parallel(n_jobs=-1)]: Done   2 tasks      | elapsed:  3.0min\n",
      "[Parallel(n_jobs=-1)]: Done  22 out of  30 | elapsed: 46.1min remaining: 16.8min\n",
      "[Parallel(n_jobs=-1)]: Done  30 out of  30 | elapsed: 56.9min finished\n"
     ]
    },
    {
     "data": {
      "text/plain": [
       "RandomizedSearchCV(cv=3, estimator=RandomForestClassifier(max_depth=4),\n",
       "                   n_jobs=-1,\n",
       "                   param_distributions={'bootstrap': [True, False],\n",
       "                                        'max_depth': [10, 15, 20, 25, 31, 36,\n",
       "                                                      41, 46, 52, 57, 62, 67,\n",
       "                                                      73, 78, 83, 88, 94, 99,\n",
       "                                                      104, 110, None],\n",
       "                                        'max_features': ['auto', 'sqrt'],\n",
       "                                        'min_samples_leaf': [1, 2, 4],\n",
       "                                        'min_samples_split': [2, 4, 6, 8, 10],\n",
       "                                        'n_estimators': [200, 207, 214, 221,\n",
       "                                                         228, 235, 242, 249,\n",
       "                                                         256, 263, 270, 277,\n",
       "                                                         284, 291, 298, 305,\n",
       "                                                         312, 319, 326, 333,\n",
       "                                                         340, 347, 354, 361,\n",
       "                                                         368, 375, 382, 389,\n",
       "                                                         396, 404, ...]},\n",
       "                   verbose=5)"
      ]
     },
     "execution_count": 16,
     "metadata": {},
     "output_type": "execute_result"
    }
   ],
   "source": [
    "#I googled a way to improve model with multiple threads.\n",
    "rf_random = RandomizedSearchCV(estimator = rf, param_distributions = random_grid,n_iter = 10, cv = 3, verbose=5, n_jobs = -1)\n",
    "# Fit the random search model\n",
    "\n",
    "\n",
    "rf_random.fit(X_train, y_train)"
   ]
  },
  {
   "cell_type": "code",
   "execution_count": 24,
   "metadata": {},
   "outputs": [
    {
     "name": "stdout",
     "output_type": "stream",
     "text": [
      "<class 'sklearn.ensemble._forest.RandomForestClassifier'>\n"
     ]
    }
   ],
   "source": [
    "print(rf_random.best_estimator_)"
   ]
  },
  {
   "cell_type": "code",
   "execution_count": 27,
   "metadata": {},
   "outputs": [],
   "source": [
    "prediction = rf_random.best_estimator_.predict(X_test)\n",
    "\n",
    "with open('rf_top20', 'wb') as picklefile:\n",
    "    pickle.dump(rf_random.best_estimator_,picklefile)"
   ]
  },
  {
   "cell_type": "code",
   "execution_count": 30,
   "metadata": {},
   "outputs": [
    {
     "name": "stdout",
     "output_type": "stream",
     "text": [
      "0.6340069009481215\n"
     ]
    },
    {
     "data": {
      "text/plain": [
       "Index(['ID', 'usd_goal_real', 'name_length', 'name_words',\n",
       "       'Title Contains the', 'Title Contains -', 'Title Contains a',\n",
       "       'Title Contains of', 'Title Contains and', 'Title Contains for',\n",
       "       'Title Contains to', 'Title Contains in', 'Title Contains &',\n",
       "       'Title Contains new', 'Title Contains album', 'Title Contains film',\n",
       "       'Title Contains project', 'Title Contains by', 'Title Contains book',\n",
       "       'Title Contains your', 'Title Contains with', 'Title Contains game',\n",
       "       'Title Contains art', 'Title Contains on'],\n",
       "      dtype='object')"
      ]
     },
     "execution_count": 30,
     "metadata": {},
     "output_type": "execute_result"
    }
   ],
   "source": [
    "right = 0\n",
    "false = 0\n",
    "i = 0\n",
    "for result in y_test:\n",
    "    if(result == prediction[i]):\n",
    "        right += 1\n",
    "    else:\n",
    "        false += 1\n",
    "    i += 1\n",
    "\n",
    "print(right/(right+false))\n",
    "X_train.columns"
   ]
  },
  {
   "cell_type": "markdown",
   "metadata": {},
   "source": [
    "As it turns out, we can predict with 63% accuracy based on the goal was set and what of the top 20 words the titles contain, which isn't anything special.\n",
    "Now I'm going to try it all over again, but this time leave all the other data in and  use only half of the training data (because otherwise it would easily go over 24 hours to train it.)"
   ]
  },
  {
   "cell_type": "code",
   "execution_count": 34,
   "metadata": {},
   "outputs": [],
   "source": [
    "data = pd.read_csv('../data/processed/02-ks-projects-engineered.csv')\n",
    "\n",
    "\n",
    "i = 0\n",
    "for (key,value) in sorted(occurences.items(), key=lambda item: item[1], reverse=True):\n",
    "    doesOccure = []\n",
    "    for title in data.name:\n",
    "        if(key in title.lower()):\n",
    "            doesOccure.append(1)\n",
    "        else:\n",
    "            doesOccure.append(0)\n",
    "    data.insert(len(data.columns),\"Title Contains \"+key, doesOccure, True)\n",
    "    if(i == 19):\n",
    "        break\n",
    "    i+=1\n",
    "    \n",
    "    \n",
    "data = data.drop(columns= [\"name\",\"launched\",\"deadline\",\"usd_pledged_real\",\"backers\",\"category\"])\n",
    "data.state = data.state.map(dict(failed=0,successful=1))\n",
    "data.launched_month = data.launched_month.map(dict(January=0,February=1,March=2,April=3,May=4,June=5,July=6,August=7,September=8,October=9,November=10,December=11))\n",
    "data.deadline_month = data.deadline_month.map(dict(January=0,February=1,March=2,April=3,May=4,June=5,July=6,August=7,September=8,October=9,November=10,December=11))\n",
    "data.launched_day = data.launched_day.map(dict(Monday=0,Tuesday=1,Thursday=2,Wednesday=3,Friday=4,Saturday=5,Sunday=6))\n",
    "data.deadline_day = data.deadline_day.map(dict(Monday=0,Tuesday=1,Thursday=2,Wednesday=3,Friday=4,Saturday=5,Sunday=6))\n",
    "#I turn the months and weekdays to numbers so we could save a lot of columns. The result might vary a bit, but not much.\n",
    "data_dum = pd.get_dummies(data,columns=[\"main_category\",\"currency\",\"country\"])"
   ]
  },
  {
   "cell_type": "code",
   "execution_count": 37,
   "metadata": {},
   "outputs": [],
   "source": [
    "X = data_dum.copy()\n",
    "X = X.drop(columns=[\"state\"])\n",
    "y= data_dum[\"state\"].copy()\n",
    "X_train, X_test, y_train, y_test = train_test_split(X, y, train_size=0.7, random_state=1)\n",
    "X_trainHalf, X_another, y_trainHalf, y_another = train_test_split(X_train, y_train, train_size=0.5, random_state=1)"
   ]
  },
  {
   "cell_type": "markdown",
   "metadata": {},
   "source": [
    "This time we split up the data one more time so we would use just half of the training data"
   ]
  },
  {
   "cell_type": "code",
   "execution_count": 38,
   "metadata": {},
   "outputs": [
    {
     "name": "stdout",
     "output_type": "stream",
     "text": [
      "Fitting 3 folds for each of 10 candidates, totalling 30 fits\n"
     ]
    },
    {
     "name": "stderr",
     "output_type": "stream",
     "text": [
      "[Parallel(n_jobs=-1)]: Using backend LokyBackend with 8 concurrent workers.\n",
      "[Parallel(n_jobs=-1)]: Done   2 tasks      | elapsed:  5.4min\n",
      "[Parallel(n_jobs=-1)]: Done  22 out of  30 | elapsed: 24.6min remaining:  9.0min\n",
      "[Parallel(n_jobs=-1)]: Done  30 out of  30 | elapsed: 34.0min finished\n"
     ]
    },
    {
     "data": {
      "text/plain": [
       "RandomizedSearchCV(cv=3, estimator=RandomForestClassifier(max_depth=4),\n",
       "                   n_jobs=-1,\n",
       "                   param_distributions={'bootstrap': [True, False],\n",
       "                                        'max_depth': [10, 15, 20, 25, 31, 36,\n",
       "                                                      41, 46, 52, 57, 62, 67,\n",
       "                                                      73, 78, 83, 88, 94, 99,\n",
       "                                                      104, 110, None],\n",
       "                                        'max_features': ['auto', 'sqrt'],\n",
       "                                        'min_samples_leaf': [1, 2, 4],\n",
       "                                        'min_samples_split': [2, 4, 6, 8, 10],\n",
       "                                        'n_estimators': [200, 207, 214, 221,\n",
       "                                                         228, 235, 242, 249,\n",
       "                                                         256, 263, 270, 277,\n",
       "                                                         284, 291, 298, 305,\n",
       "                                                         312, 319, 326, 333,\n",
       "                                                         340, 347, 354, 361,\n",
       "                                                         368, 375, 382, 389,\n",
       "                                                         396, 404, ...]},\n",
       "                   verbose=5)"
      ]
     },
     "execution_count": 38,
     "metadata": {},
     "output_type": "execute_result"
    }
   ],
   "source": [
    "rf_randomNew = RandomizedSearchCV(estimator = rf, param_distributions = random_grid,n_iter = 10, cv = 2, verbose=5, n_jobs = -1)\n",
    "rf_randomNew.fit(X_trainHalf, y_trainHalf)"
   ]
  },
  {
   "cell_type": "code",
   "execution_count": 41,
   "metadata": {},
   "outputs": [
    {
     "name": "stdout",
     "output_type": "stream",
     "text": [
      "0.675068554140063\n"
     ]
    }
   ],
   "source": [
    "prediction2 = rf_randomNew.best_estimator_.predict(X_test)\n",
    "\n",
    "with open('rf_top20_Others', 'wb') as picklefile:\n",
    "    pickle.dump(rf_randomNew.best_estimator_,picklefile)\n",
    "\n",
    "\n",
    "right = 0\n",
    "false = 0\n",
    "i = 0\n",
    "for result in y_test:\n",
    "    if(result == prediction2[i]):\n",
    "        right += 1\n",
    "    else:\n",
    "        false += 1\n",
    "    i += 1\n",
    "\n",
    "print(right/(right+false))"
   ]
  },
  {
   "cell_type": "markdown",
   "metadata": {},
   "source": [
    "67.5% accuracy is pretty similar to our last classifier and while its still better than nothing, I would count it rather low."
   ]
  },
  {
   "cell_type": "markdown",
   "metadata": {},
   "source": [
    "Next test I'm trying once again to predict based on the title only, but this time we use method described in this article https://stackabuse.com/text-classification-with-python-and-scikit-learn/"
   ]
  },
  {
   "cell_type": "code",
   "execution_count": 15,
   "metadata": {},
   "outputs": [],
   "source": [
    "data = pd.read_csv('../data/processed/02-ks-projects-engineered.csv')\n",
    "\n",
    "X = data[\"name\"].copy()\n",
    "y = data[\"state\"].copy()"
   ]
  },
  {
   "cell_type": "code",
   "execution_count": 16,
   "metadata": {},
   "outputs": [
    {
     "name": "stderr",
     "output_type": "stream",
     "text": [
      "[nltk_data] Downloading package stopwords to\n",
      "[nltk_data]     C:\\Users\\karla431\\AppData\\Roaming\\nltk_data...\n",
      "[nltk_data]   Package stopwords is already up-to-date!\n",
      "[nltk_data] Downloading package wordnet to\n",
      "[nltk_data]     C:\\Users\\karla431\\AppData\\Roaming\\nltk_data...\n",
      "[nltk_data]   Package wordnet is already up-to-date!\n"
     ]
    }
   ],
   "source": [
    "documents = []\n",
    "\n",
    "from nltk.stem import WordNetLemmatizer\n",
    "import re\n",
    "import nltk\n",
    "from sklearn.datasets import load_files\n",
    "nltk.download('stopwords')\n",
    "nltk.download('wordnet')\n",
    "from nltk.corpus import stopwords\n",
    "\n",
    "stemmer = WordNetLemmatizer()\n",
    "\n",
    "for title in X:\n",
    "    # Remove all the special characters\n",
    "    document = re.sub(r'\\W', ' ', str(title))\n",
    "    \n",
    "    # remove all single characters\n",
    "    document = re.sub(r'\\s+[a-zA-Z]\\s+', ' ', document)\n",
    "    \n",
    "    # Remove single characters from the start\n",
    "    document = re.sub(r'\\^[a-zA-Z]\\s+', ' ', document) \n",
    "    \n",
    "    # Substituting multiple spaces with single space\n",
    "    document = re.sub(r'\\s+', ' ', document, flags=re.I)\n",
    "    \n",
    "    # Removing prefixed 'b'\n",
    "    document = re.sub(r'^b\\s+', '', document)\n",
    "    \n",
    "    # Converting to Lowercase\n",
    "    document = document.lower()\n",
    "    \n",
    "    # Lemmatization\n",
    "    document = document.split()\n",
    "\n",
    "    document = [stemmer.lemmatize(word) for word in document]\n",
    "    document = ' '.join(document)\n",
    "    \n",
    "    documents.append(document)"
   ]
  },
  {
   "cell_type": "code",
   "execution_count": 17,
   "metadata": {},
   "outputs": [],
   "source": [
    "from sklearn.feature_extraction.text import CountVectorizer\n",
    "vectorizer = CountVectorizer(max_features=1500, min_df=5, max_df=0.7, stop_words=stopwords.words('english'))\n",
    "X = vectorizer.fit_transform(documents).toarray()"
   ]
  },
  {
   "cell_type": "code",
   "execution_count": 18,
   "metadata": {},
   "outputs": [
    {
     "name": "stdout",
     "output_type": "stream",
     "text": [
      "1500\n"
     ]
    }
   ],
   "source": [
    "print(len(X[0]))"
   ]
  },
  {
   "cell_type": "code",
   "execution_count": 19,
   "metadata": {},
   "outputs": [],
   "source": [
    "X_train, X_test, y_train, y_test = train_test_split(X, y, train_size=0.7, random_state=1)\n",
    "X_trainHalf, X_another, y_trainHalf, y_another = train_test_split(X_train, y_train, train_size=0.5, random_state=1)"
   ]
  },
  {
   "cell_type": "code",
   "execution_count": 18,
   "metadata": {},
   "outputs": [
    {
     "name": "stdout",
     "output_type": "stream",
     "text": [
      "Fitting 3 folds for each of 10 candidates, totalling 30 fits\n"
     ]
    },
    {
     "name": "stderr",
     "output_type": "stream",
     "text": [
      "[Parallel(n_jobs=-1)]: Using backend LokyBackend with 8 concurrent workers.\n",
      "[Parallel(n_jobs=-1)]: Done   2 tasks      | elapsed: 29.0min\n",
      "[Parallel(n_jobs=-1)]: Done  22 out of  30 | elapsed: 262.8min remaining: 95.6min\n",
      "[Parallel(n_jobs=-1)]: Done  30 out of  30 | elapsed: 355.2min finished\n"
     ]
    },
    {
     "data": {
      "text/plain": [
       "RandomizedSearchCV(cv=3, estimator=RandomForestClassifier(max_depth=4),\n",
       "                   n_jobs=-1,\n",
       "                   param_distributions={'bootstrap': [True, False],\n",
       "                                        'max_depth': [10, 15, 20, 25, 31, 36,\n",
       "                                                      41, 46, 52, 57, 62, 67,\n",
       "                                                      73, 78, 83, 88, 94, 99,\n",
       "                                                      104, 110, None],\n",
       "                                        'max_features': ['auto', 'sqrt'],\n",
       "                                        'min_samples_leaf': [1, 2, 4],\n",
       "                                        'min_samples_split': [2, 4, 6, 8, 10],\n",
       "                                        'n_estimators': [200, 207, 214, 221,\n",
       "                                                         228, 235, 242, 249,\n",
       "                                                         256, 263, 270, 277,\n",
       "                                                         284, 291, 298, 305,\n",
       "                                                         312, 319, 326, 333,\n",
       "                                                         340, 347, 354, 361,\n",
       "                                                         368, 375, 382, 389,\n",
       "                                                         396, 404, ...]},\n",
       "                   verbose=5)"
      ]
     },
     "execution_count": 18,
     "metadata": {},
     "output_type": "execute_result"
    }
   ],
   "source": [
    "#I googled a way to improve model with multiple threads.\n",
    "rf_randomWords = RandomizedSearchCV(estimator = rf, param_distributions = random_grid,n_iter = 10, cv = 3, verbose=5, n_jobs = -1)\n",
    "# Fit the random search model\n",
    "\n",
    "\n",
    "rf_randomWords.fit(X_trainHalf, y_trainHalf)"
   ]
  },
  {
   "cell_type": "code",
   "execution_count": 20,
   "metadata": {},
   "outputs": [
    {
     "name": "stdout",
     "output_type": "stream",
     "text": [
      "0.6450463942040131\n"
     ]
    }
   ],
   "source": [
    "prediction3 = rf_randomWords.best_estimator_.predict(X_test)\n",
    "\n",
    "with open('rf_1500', 'wb') as picklefile:\n",
    "    pickle.dump(rf_randomWords.best_estimator_,picklefile)\n",
    "\n",
    "\n",
    "right = 0\n",
    "false = 0\n",
    "i = 0\n",
    "for result in y_test:\n",
    "    if(result == prediction3[i]):\n",
    "        right += 1\n",
    "    else:\n",
    "        false += 1\n",
    "    i += 1\n",
    "\n",
    "print(right/(right+false))"
   ]
  },
  {
   "cell_type": "markdown",
   "metadata": {},
   "source": [
    "65% is not bad score at all since the prediction used the title only. Lets try to combine this data back together with our original data."
   ]
  },
  {
   "cell_type": "code",
   "execution_count": 20,
   "metadata": {},
   "outputs": [],
   "source": [
    "data = pd.read_csv('../data/processed/02-ks-projects-engineered.csv')\n",
    "\n",
    "    \n",
    "data = data.drop(columns= [\"name\",\"launched\",\"deadline\",\"usd_pledged_real\",\"backers\",\"category\"])\n",
    "data.state = data.state.map(dict(failed=0,successful=1))\n",
    "data.launched_month = data.launched_month.map(dict(January=0,February=1,March=2,April=3,May=4,June=5,July=6,August=7,September=8,October=9,November=10,December=11))\n",
    "data.deadline_month = data.deadline_month.map(dict(January=0,February=1,March=2,April=3,May=4,June=5,July=6,August=7,September=8,October=9,November=10,December=11))\n",
    "data.launched_day = data.launched_day.map(dict(Monday=0,Tuesday=1,Thursday=2,Wednesday=3,Friday=4,Saturday=5,Sunday=6))\n",
    "data.deadline_day = data.deadline_day.map(dict(Monday=0,Tuesday=1,Thursday=2,Wednesday=3,Friday=4,Saturday=5,Sunday=6))\n",
    "#I turn the months and weekdays to numbers so we could save a lot of columns. The result might vary a bit, but not much.\n",
    "data_dum = pd.get_dummies(data,columns=[\"main_category\",\"currency\",\"country\"])\n",
    "\n",
    "words = vectorizer.get_feature_names()\n",
    "i=0\n",
    "for column in range(1500):\n",
    "    newColumn = [] \n",
    "    for row in range(len(X)):\n",
    "        newColumn.append(X[row][column])\n",
    "    data_dum.insert(len(data_dum.columns),\"Title_Contains_\"+words[i], newColumn, True)\n",
    "    i+=1"
   ]
  },
  {
   "cell_type": "code",
   "execution_count": 21,
   "metadata": {},
   "outputs": [],
   "source": [
    "data_dum.columns\n",
    "X = data_dum.copy()\n",
    "X = X.drop(columns=[\"state\"])\n",
    "y= data_dum[\"state\"].copy()"
   ]
  },
  {
   "cell_type": "code",
   "execution_count": 22,
   "metadata": {},
   "outputs": [],
   "source": [
    "X_train, X_test, y_train, y_test = train_test_split(X, y, train_size=0.7, random_state=1)\n",
    "X_trainHalf, X_another, y_trainHalf, y_another = train_test_split(X_train, y_train, train_size=0.5, random_state=1)"
   ]
  },
  {
   "cell_type": "code",
   "execution_count": 23,
   "metadata": {},
   "outputs": [
    {
     "data": {
      "text/plain": [
       "Index(['ID', 'usd_goal_real', 'deadline_year', 'deadline_month',\n",
       "       'deadline_day', 'launched_year', 'launched_month', 'launched_day',\n",
       "       'launched_hour', 'launched_minute',\n",
       "       ...\n",
       "       'Title_Contains_year', 'Title_Contains_yoga', 'Title_Contains_york',\n",
       "       'Title_Contains_young', 'Title_Contains_youth',\n",
       "       'Title_Contains_youtube', 'Title_Contains_zero', 'Title_Contains_zine',\n",
       "       'Title_Contains_zombie', 'Title_Contains_zone'],\n",
       "      dtype='object', length=1563)"
      ]
     },
     "execution_count": 23,
     "metadata": {},
     "output_type": "execute_result"
    }
   ],
   "source": [
    "X_trainHalf.columns"
   ]
  },
  {
   "cell_type": "code",
   "execution_count": 24,
   "metadata": {},
   "outputs": [
    {
     "name": "stdout",
     "output_type": "stream",
     "text": [
      "Fitting 3 folds for each of 10 candidates, totalling 30 fits\n"
     ]
    },
    {
     "name": "stderr",
     "output_type": "stream",
     "text": [
      "[Parallel(n_jobs=-1)]: Using backend LokyBackend with 8 concurrent workers.\n",
      "[Parallel(n_jobs=-1)]: Done   2 tasks      | elapsed:  8.0min\n",
      "[Parallel(n_jobs=-1)]: Done  22 out of  30 | elapsed: 57.2min remaining: 20.8min\n",
      "[Parallel(n_jobs=-1)]: Done  30 out of  30 | elapsed: 100.3min finished\n"
     ]
    },
    {
     "data": {
      "text/plain": [
       "RandomizedSearchCV(cv=3, estimator=RandomForestClassifier(max_depth=4),\n",
       "                   n_jobs=-1,\n",
       "                   param_distributions={'bootstrap': [True, False],\n",
       "                                        'max_depth': [10, 15, 20, 25, 31, 36,\n",
       "                                                      41, 46, 52, 57, 62, 67,\n",
       "                                                      73, 78, 83, 88, 94, 99,\n",
       "                                                      104, 110, None],\n",
       "                                        'max_features': ['auto', 'sqrt'],\n",
       "                                        'min_samples_leaf': [1, 2, 4],\n",
       "                                        'min_samples_split': [2, 4, 6, 8, 10],\n",
       "                                        'n_estimators': [200, 207, 214, 221,\n",
       "                                                         228, 235, 242, 249,\n",
       "                                                         256, 263, 270, 277,\n",
       "                                                         284, 291, 298, 305,\n",
       "                                                         312, 319, 326, 333,\n",
       "                                                         340, 347, 354, 361,\n",
       "                                                         368, 375, 382, 389,\n",
       "                                                         396, 404, ...]},\n",
       "                   verbose=5)"
      ]
     },
     "execution_count": 24,
     "metadata": {},
     "output_type": "execute_result"
    }
   ],
   "source": [
    "#I googled a way to improve model with multiple threads.\n",
    "rf_randomWordsWithOthers = RandomizedSearchCV(estimator = rf, param_distributions = random_grid,n_iter = 10, cv = 3, verbose=5, n_jobs = -1)\n",
    "# Fit the random search model\n",
    "\n",
    "\n",
    "rf_randomWordsWithOthers.fit(X_trainHalf, y_trainHalf)"
   ]
  },
  {
   "cell_type": "code",
   "execution_count": 25,
   "metadata": {},
   "outputs": [],
   "source": [
    "prediction4 = rf_randomWordsWithOthers.best_estimator_.predict(X_test)"
   ]
  },
  {
   "cell_type": "code",
   "execution_count": 26,
   "metadata": {},
   "outputs": [],
   "source": [
    "with open('rf_1500_Others', 'wb') as picklefile:\n",
    "    pickle.dump(rf_randomWordsWithOthers.best_estimator_,picklefile)"
   ]
  },
  {
   "cell_type": "code",
   "execution_count": 27,
   "metadata": {},
   "outputs": [
    {
     "name": "stdout",
     "output_type": "stream",
     "text": [
      "0.685318789399658\n"
     ]
    }
   ],
   "source": [
    "right = 0\n",
    "false = 0\n",
    "i = 0\n",
    "for result in y_test:\n",
    "    if(result == prediction4[i]):\n",
    "        right += 1\n",
    "    else:\n",
    "        false += 1\n",
    "    i += 1\n",
    "\n",
    "print(right/(right+false))"
   ]
  },
  {
   "cell_type": "markdown",
   "metadata": {},
   "source": [
    "In conclusion we can say that getting over 70% prediction rate is quite hard, but might not be absolutely impossible. However this concludes my tries on training the classifier and therefore I'd say that the best way is to use bag of words method with all other columns we had before, to get the best result."
   ]
  },
  {
   "cell_type": "code",
   "execution_count": 28,
   "metadata": {},
   "outputs": [
    {
     "name": "stdout",
     "output_type": "stream",
     "text": [
      "[[49775  9223]\n",
      " [21876 17953]]\n",
      "              precision    recall  f1-score   support\n",
      "\n",
      "           0       0.69      0.84      0.76     58998\n",
      "           1       0.66      0.45      0.54     39829\n",
      "\n",
      "    accuracy                           0.69     98827\n",
      "   macro avg       0.68      0.65      0.65     98827\n",
      "weighted avg       0.68      0.69      0.67     98827\n",
      "\n"
     ]
    }
   ],
   "source": [
    "from sklearn.metrics import classification_report, confusion_matrix\n",
    "\n",
    "print(confusion_matrix(y_test,prediction4))\n",
    "print(classification_report(y_test,prediction4))"
   ]
  },
  {
   "cell_type": "code",
   "execution_count": 29,
   "metadata": {},
   "outputs": [],
   "source": [
    "importances = dict()\n",
    "numbers = rf_randomWordsWithOthers.best_estimator_.feature_importances_\n",
    "columns = X_test.columns\n",
    "j = 0\n",
    "\n",
    "for i in range(len(numbers)):\n",
    "    importances[columns[i]] = numbers[i]\n",
    "\n",
    "\n",
    "#Code because I made a mistake at one moment. In the last run it will be fixed and not needed anymore.\n",
    "#for i in range(len(numbers)):\n",
    "#    if(columns[i] == \"Title0\"):\n",
    "#        importances[\"Title\"+str(j)] = numbers[i]\n",
    "#        j+=1\n",
    "#    else:\n",
    "#        importances[columns[i]] = numbers[i]"
   ]
  },
  {
   "cell_type": "code",
   "execution_count": 30,
   "metadata": {},
   "outputs": [
    {
     "data": {
      "text/plain": [
       "{'usd_goal_real': 0.09219306536528166,\n",
       " 'name_length': 0.04209049208205831,\n",
       " 'ID': 0.0392697761952412,\n",
       " 'launched_minute': 0.03903552467187229,\n",
       " 'launched_hour': 0.03228350741833535,\n",
       " 'name_words': 0.029789311875795622,\n",
       " 'launched_year': 0.02414032802806888,\n",
       " 'deadline_year': 0.023794321754509188,\n",
       " 'deadline_month': 0.023750128508643192,\n",
       " 'launched_month': 0.023637790062887444,\n",
       " 'launched_day': 0.021179962108037843,\n",
       " 'deadline_day': 0.020661999105780798,\n",
       " 'main_category_Technology': 0.008699188681774946,\n",
       " 'main_category_Theater': 0.008382287419578941,\n",
       " 'main_category_Music': 0.0073147128069741205,\n",
       " 'main_category_Comics': 0.006682909332594147,\n",
       " 'main_category_Fashion': 0.005469667425112649,\n",
       " 'Title_Contains_album': 0.005077578331394013,\n",
       " 'main_category_Food': 0.005048901691490514,\n",
       " 'main_category_Film & Video': 0.0049298328541878085,\n",
       " 'main_category_Publishing': 0.004895090215552314,\n",
       " 'Title_Contains_new': 0.004519005378697405,\n",
       " 'main_category_Games': 0.004284664063318506,\n",
       " 'Title_Contains_film': 0.004276775215537939,\n",
       " 'main_category_Dance': 0.004067174030713204,\n",
       " 'Title_Contains_short': 0.003782704147275199,\n",
       " 'country_US': 0.0035345512976138736,\n",
       " 'Title_Contains_project': 0.003464465325147364,\n",
       " 'currency_USD': 0.003362978847945162,\n",
       " 'main_category_Design': 0.003276153111797373}"
      ]
     },
     "execution_count": 30,
     "metadata": {},
     "output_type": "execute_result"
    }
   ],
   "source": [
    "dict(sorted(importances.items(), key=lambda item: item[1], reverse=True)[0:30])"
   ]
  },
  {
   "cell_type": "code",
   "execution_count": 31,
   "metadata": {},
   "outputs": [
    {
     "name": "stdout",
     "output_type": "stream",
     "text": [
      "['usd_goal_real']\n"
     ]
    },
    {
     "data": {
      "text/plain": [
       "<sklearn.inspection._plot.partial_dependence.PartialDependenceDisplay at 0x2016f0560a0>"
      ]
     },
     "execution_count": 31,
     "metadata": {},
     "output_type": "execute_result"
    },
    {
     "data": {
      "image/png": "[encoded data removed]",
      "text/plain": [
       "<Figure size 432x288 with 2 Axes>"
      ]
     },
     "metadata": {
      "needs_background": "light"
     },
     "output_type": "display_data"
    }
   ],
   "source": [
    "from sklearn.inspection import plot_partial_dependence\n",
    "features = []\n",
    "for i in (sorted(importances.items(), key=lambda item: item[1], reverse=True)[0:1]):\n",
    "    features.append(i[0])\n",
    "    \n",
    "print(list(set(features)))\n",
    "plot_partial_dependence(rf_randomWordsWithOthers, X_trainHalf, list(set(features)))"
   ]
  }
 ],
 "metadata": {
  "kernelspec": {
   "display_name": "Python 3",
   "language": "python",
   "name": "python3"
  },
  "language_info": {
   "codemirror_mode": {
    "name": "ipython",
    "version": 3
   },
   "file_extension": ".py",
   "mimetype": "text/x-python",
   "name": "python",
   "nbconvert_exporter": "python",
   "pygments_lexer": "ipython3",
   "version": "3.8.3"
  }
 },
 "nbformat": 4,
 "nbformat_minor": 4
}
