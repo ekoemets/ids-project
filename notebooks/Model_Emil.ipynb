{
 "cells": [
  {
   "cell_type": "code",
   "execution_count": 2,
   "metadata": {},
   "outputs": [],
   "source": [
    "import pandas as pd\n",
    "import numpy as np\n",
    "import seaborn as sns\n",
    "import matplotlib.pyplot as plt\n",
    "from idskicker.config import data_dir\n",
    "\n",
    "df_start = pd.read_csv(data_dir / 'processed' / '02-ks-projects-engineered.csv')"
   ]
  },
  {
   "cell_type": "code",
   "execution_count": 3,
   "metadata": {},
   "outputs": [],
   "source": [
    "to_drop = [\"ID\", \"launched\", \"deadline\", \n",
    "           \"usd_pledged_real\", \"backers\", \"launched_year\", \"deadline_year\"]\n",
    "df = df_start.drop(columns=to_drop)"
   ]
  },
  {
   "cell_type": "code",
   "execution_count": 4,
   "metadata": {},
   "outputs": [
    {
     "data": {
      "text/html": [
       "<div>\n",
       "<style scoped>\n",
       "    .dataframe tbody tr th:only-of-type {\n",
       "        vertical-align: middle;\n",
       "    }\n",
       "\n",
       "    .dataframe tbody tr th {\n",
       "        vertical-align: top;\n",
       "    }\n",
       "\n",
       "    .dataframe thead th {\n",
       "        text-align: right;\n",
       "    }\n",
       "</style>\n",
       "<table border=\"1\" class=\"dataframe\">\n",
       "  <thead>\n",
       "    <tr style=\"text-align: right;\">\n",
       "      <th></th>\n",
       "      <th>name</th>\n",
       "      <th>category</th>\n",
       "      <th>main_category</th>\n",
       "      <th>currency</th>\n",
       "      <th>state</th>\n",
       "      <th>country</th>\n",
       "      <th>usd_goal_real</th>\n",
       "      <th>deadline_month</th>\n",
       "      <th>deadline_day</th>\n",
       "      <th>launched_month</th>\n",
       "      <th>launched_day</th>\n",
       "      <th>launched_hour</th>\n",
       "      <th>launched_minute</th>\n",
       "      <th>name_length</th>\n",
       "      <th>name_words</th>\n",
       "      <th>launched_to_deadline_days</th>\n",
       "    </tr>\n",
       "  </thead>\n",
       "  <tbody>\n",
       "    <tr>\n",
       "      <th>0</th>\n",
       "      <td>The Songs of Adelaide &amp; Abullah</td>\n",
       "      <td>Poetry</td>\n",
       "      <td>Publishing</td>\n",
       "      <td>GBP</td>\n",
       "      <td>0</td>\n",
       "      <td>GB</td>\n",
       "      <td>-0.046297</td>\n",
       "      <td>October</td>\n",
       "      <td>Friday</td>\n",
       "      <td>August</td>\n",
       "      <td>Tuesday</td>\n",
       "      <td>-0.140469</td>\n",
       "      <td>-0.921442</td>\n",
       "      <td>-0.203792</td>\n",
       "      <td>-0.231694</td>\n",
       "      <td>1.972610</td>\n",
       "    </tr>\n",
       "    <tr>\n",
       "      <th>1</th>\n",
       "      <td>Greeting From Earth: ZGAC Arts Capsule For ET</td>\n",
       "      <td>Narrative Film</td>\n",
       "      <td>Film &amp; Video</td>\n",
       "      <td>USD</td>\n",
       "      <td>0</td>\n",
       "      <td>US</td>\n",
       "      <td>0.008405</td>\n",
       "      <td>November</td>\n",
       "      <td>Wednesday</td>\n",
       "      <td>September</td>\n",
       "      <td>Saturday</td>\n",
       "      <td>-1.177336</td>\n",
       "      <td>0.801718</td>\n",
       "      <td>0.673288</td>\n",
       "      <td>0.881005</td>\n",
       "      <td>2.051404</td>\n",
       "    </tr>\n",
       "    <tr>\n",
       "      <th>2</th>\n",
       "      <td>Where is Hank?</td>\n",
       "      <td>Narrative Film</td>\n",
       "      <td>Film &amp; Video</td>\n",
       "      <td>USD</td>\n",
       "      <td>0</td>\n",
       "      <td>US</td>\n",
       "      <td>0.037230</td>\n",
       "      <td>February</td>\n",
       "      <td>Tuesday</td>\n",
       "      <td>January</td>\n",
       "      <td>Saturday</td>\n",
       "      <td>-1.695770</td>\n",
       "      <td>-0.476756</td>\n",
       "      <td>-1.268818</td>\n",
       "      <td>-0.973494</td>\n",
       "      <td>0.869495</td>\n",
       "    </tr>\n",
       "    <tr>\n",
       "      <th>3</th>\n",
       "      <td>ToshiCapital Rekordz Needs Help to Complete Album</td>\n",
       "      <td>Music</td>\n",
       "      <td>Music</td>\n",
       "      <td>USD</td>\n",
       "      <td>0</td>\n",
       "      <td>US</td>\n",
       "      <td>-0.039636</td>\n",
       "      <td>April</td>\n",
       "      <td>Monday</td>\n",
       "      <td>March</td>\n",
       "      <td>Saturday</td>\n",
       "      <td>-1.306945</td>\n",
       "      <td>-0.254412</td>\n",
       "      <td>0.923883</td>\n",
       "      <td>0.510106</td>\n",
       "      <td>-0.312415</td>\n",
       "    </tr>\n",
       "    <tr>\n",
       "      <th>4</th>\n",
       "      <td>Monarch Espresso Bar</td>\n",
       "      <td>Restaurants</td>\n",
       "      <td>Food</td>\n",
       "      <td>USD</td>\n",
       "      <td>1</td>\n",
       "      <td>US</td>\n",
       "      <td>0.046838</td>\n",
       "      <td>April</td>\n",
       "      <td>Friday</td>\n",
       "      <td>February</td>\n",
       "      <td>Friday</td>\n",
       "      <td>-0.010861</td>\n",
       "      <td>0.523789</td>\n",
       "      <td>-0.892927</td>\n",
       "      <td>-0.973494</td>\n",
       "      <td>0.081555</td>\n",
       "    </tr>\n",
       "  </tbody>\n",
       "</table>\n",
       "</div>"
      ],
      "text/plain": [
       "                                                name        category  \\\n",
       "0                    The Songs of Adelaide & Abullah          Poetry   \n",
       "1      Greeting From Earth: ZGAC Arts Capsule For ET  Narrative Film   \n",
       "2                                     Where is Hank?  Narrative Film   \n",
       "3  ToshiCapital Rekordz Needs Help to Complete Album           Music   \n",
       "4                               Monarch Espresso Bar     Restaurants   \n",
       "\n",
       "  main_category currency  state country  usd_goal_real deadline_month  \\\n",
       "0    Publishing      GBP      0      GB      -0.046297        October   \n",
       "1  Film & Video      USD      0      US       0.008405       November   \n",
       "2  Film & Video      USD      0      US       0.037230       February   \n",
       "3         Music      USD      0      US      -0.039636          April   \n",
       "4          Food      USD      1      US       0.046838          April   \n",
       "\n",
       "  deadline_day launched_month launched_day  launched_hour  launched_minute  \\\n",
       "0       Friday         August      Tuesday      -0.140469        -0.921442   \n",
       "1    Wednesday      September     Saturday      -1.177336         0.801718   \n",
       "2      Tuesday        January     Saturday      -1.695770        -0.476756   \n",
       "3       Monday          March     Saturday      -1.306945        -0.254412   \n",
       "4       Friday       February       Friday      -0.010861         0.523789   \n",
       "\n",
       "   name_length  name_words  launched_to_deadline_days  \n",
       "0    -0.203792   -0.231694                   1.972610  \n",
       "1     0.673288    0.881005                   2.051404  \n",
       "2    -1.268818   -0.973494                   0.869495  \n",
       "3     0.923883    0.510106                  -0.312415  \n",
       "4    -0.892927   -0.973494                   0.081555  "
      ]
     },
     "execution_count": 4,
     "metadata": {},
     "output_type": "execute_result"
    }
   ],
   "source": [
    "from sklearn.preprocessing import StandardScaler\n",
    "mms = StandardScaler()\n",
    "cols_to_scale = [\"launched_hour\", \"launched_minute\", \"name_length\", \n",
    "                 \"name_words\", \"launched_to_deadline_days\", \"usd_goal_real\"]\n",
    "df[cols_to_scale] = mms.fit_transform(df[cols_to_scale]) \n",
    "df[\"state\"] = df[\"state\"].map({\"failed\":0, \"successful\":1})\n",
    "for c in df.select_dtypes(\"object\").columns:\n",
    "    df[c] = df[c].astype('category')\n",
    "df.head()"
   ]
  },
  {
   "cell_type": "code",
   "execution_count": 5,
   "metadata": {},
   "outputs": [
    {
     "name": "stderr",
     "output_type": "stream",
     "text": [
      "[nltk_data] Downloading package wordnet to /home/emil/nltk_data...\n",
      "[nltk_data]   Package wordnet is already up-to-date!\n",
      "[nltk_data] Downloading package stopwords to /home/emil/nltk_data...\n",
      "[nltk_data]   Package stopwords is already up-to-date!\n"
     ]
    }
   ],
   "source": [
    "from idskicker.features import add_n_most_frequent_words_as_features\n",
    "df_copy = df.copy()\n",
    "add_n_most_frequent_words_as_features(df_copy, \"name\", 10)\n",
    "df_copy = df_copy.drop(columns=[\"name\"])"
   ]
  },
  {
   "cell_type": "code",
   "execution_count": 6,
   "metadata": {},
   "outputs": [],
   "source": [
    "X = df_copy.drop(columns=[\"state\"])\n",
    "y = df_copy[\"state\"]"
   ]
  },
  {
   "cell_type": "code",
   "execution_count": 7,
   "metadata": {},
   "outputs": [],
   "source": [
    "from sklearn.model_selection import train_test_split\n",
    "X_train, X_test, y_train, y_test = train_test_split(X, y, test_size=0.3, random_state=1)"
   ]
  },
  {
   "cell_type": "code",
   "execution_count": 7,
   "metadata": {
    "scrolled": false
   },
   "outputs": [
    {
     "name": "stderr",
     "output_type": "stream",
     "text": [
      "\u001b[32m[I 2020-12-12 09:02:17,513]\u001b[0m A new study created in memory with name: no-name-84a50be7-48b3-418b-9789-6f7e21b4bc7e\u001b[0m\n",
      "/home/emil/anaconda3/lib/python3.8/site-packages/optuna/integration/_lightgbm_tuner/optimize.py:435: FutureWarning: `verbosity` argument is deprecated and will be removed in the future. The removal of this feature is currently scheduled for v4.0.0, but this schedule is subject to change. Please use optuna.logging.set_verbosity() instead.\n",
      "  warnings.warn(\n",
      "feature_fraction, val_score: -inf:   0%|          | 0/7 [00:00<?, ?it/s]/home/emil/anaconda3/lib/python3.8/site-packages/lightgbm/basic.py:1551: UserWarning: Using categorical_feature in Dataset.\n",
      "  warnings.warn('Using categorical_feature in Dataset.')\n",
      "feature_fraction, val_score: 0.760744: 100%|##########| 7/7 [00:49<00:00,  7.11s/it]\n",
      "num_leaves, val_score: 0.760841: 100%|##########| 20/20 [03:54<00:00, 11.75s/it]\n",
      "bagging, val_score: 0.760860: 100%|##########| 10/10 [03:05<00:00, 18.53s/it]\n",
      "feature_fraction_stage2, val_score: 0.760860: 100%|##########| 3/3 [00:51<00:00, 17.27s/it]\n",
      "regularization_factors, val_score: 0.761359: 100%|##########| 20/20 [05:20<00:00, 16.02s/it]\n",
      "min_data_in_leaf, val_score: 0.761359: 100%|##########| 5/5 [01:07<00:00, 13.43s/it]\n"
     ]
    }
   ],
   "source": [
    "# Tuner example taken from https://github.com/optuna/optuna/blob/master/examples/lightgbm_tuner_cv.py\n",
    "from sklearn.model_selection import KFold\n",
    "import optuna.integration.lightgbm as o_lgb\n",
    "\n",
    "cat_features = [c for c, col in enumerate(X_train.dtypes) if str(col) == \"category\"]\n",
    "d_train = o_lgb.Dataset(X_train, label=y_train, categorical_feature = cat_features)\n",
    "\n",
    "params = {\n",
    "    \"objective\": \"binary\",\n",
    "    \"metric\": \"auc\",\n",
    "    \"verbosity\": -1,\n",
    "    \"boosting_type\": \"gbdt\",\n",
    "}\n",
    "\n",
    "tuner = o_lgb.LightGBMTunerCV(\n",
    "    params, d_train, verbose_eval=100000, early_stopping_rounds=100, folds=KFold(n_splits=3), verbosity=-1\n",
    ")\n",
    "\n",
    "tuner.run()"
   ]
  },
  {
   "cell_type": "code",
   "execution_count": 8,
   "metadata": {
    "scrolled": true
   },
   "outputs": [
    {
     "data": {
      "text/plain": [
       "{'objective': 'binary',\n",
       " 'metric': 'auc',\n",
       " 'verbosity': -1,\n",
       " 'boosting_type': 'gbdt',\n",
       " 'feature_pre_filter': False,\n",
       " 'lambda_l1': 0.0792934225029538,\n",
       " 'lambda_l2': 8.403689455946852,\n",
       " 'num_leaves': 16,\n",
       " 'feature_fraction': 0.4,\n",
       " 'bagging_fraction': 0.8726087678345507,\n",
       " 'bagging_freq': 1,\n",
       " 'min_child_samples': 20}"
      ]
     },
     "execution_count": 8,
     "metadata": {},
     "output_type": "execute_result"
    }
   ],
   "source": [
    "tuner.best_params"
   ]
  },
  {
   "cell_type": "code",
   "execution_count": 8,
   "metadata": {},
   "outputs": [
    {
     "name": "stderr",
     "output_type": "stream",
     "text": [
      "/home/emil/anaconda3/lib/python3.8/site-packages/lightgbm/basic.py:1551: UserWarning: Using categorical_feature in Dataset.\n",
      "  warnings.warn('Using categorical_feature in Dataset.')\n"
     ]
    },
    {
     "data": {
      "text/plain": [
       "0.7038359962358465"
      ]
     },
     "execution_count": 8,
     "metadata": {},
     "output_type": "execute_result"
    }
   ],
   "source": [
    "from sklearn.metrics import accuracy_score\n",
    "import lightgbm as lgb\n",
    "params = {\n",
    "    'objective': 'binary',\n",
    "    'metric': 'auc',\n",
    "    'verbosity': -1,\n",
    "    'boosting_type': 'gbdt',\n",
    "    'feature_pre_filter': False,\n",
    "    'lambda_l1': 0.0792934225029538,\n",
    "    'lambda_l2': 8.403689455946852,\n",
    "    'num_leaves': 16,\n",
    "    'feature_fraction': 0.4,\n",
    "    'bagging_fraction': 0.8726087678345507,\n",
    "    'bagging_freq': 1,\n",
    "    'min_child_samples': 20\n",
    "}\n",
    "cat_features = [c for c, col in enumerate(X_train.dtypes) if str(col) == \"category\"]\n",
    "d_train = lgb.Dataset(X_train, label=y_train, categorical_feature = cat_features)\n",
    "clf = lgb.train(params, d_train, 1000)\n",
    "\n",
    "y_pred=[1 if x > 0.5 else 0 for x in clf.predict(X_test)]\n",
    "accuracy_score(y_test, y_pred)"
   ]
  },
  {
   "cell_type": "markdown",
   "metadata": {},
   "source": [
    "## Plotting the ROC curve"
   ]
  },
  {
   "cell_type": "code",
   "execution_count": 11,
   "metadata": {},
   "outputs": [],
   "source": [
    "from sklearn.metrics import roc_curve\n",
    "X_disc, X_val, y_disc, y_val = train_test_split(X_test, y_test, test_size=0.1, random_state=1)\n",
    "fpr, tpr, threshold = roc_curve(y_val, clf.predict(X_val))\n",
    "roc_df = pd.DataFrame({\"threshold\": threshold, \"tpr\":tpr, \"fpr\":fpr})\n",
    "roc_df = roc_df.loc[roc_df[\"threshold\"] < 1].sort_values(by=\"threshold\")"
   ]
  },
  {
   "cell_type": "code",
   "execution_count": 12,
   "metadata": {},
   "outputs": [
    {
     "data": {
      "text/plain": [
       "<matplotlib.axes._subplots.AxesSubplot at 0x7f33e5d2b8b0>"
      ]
     },
     "execution_count": 12,
     "metadata": {},
     "output_type": "execute_result"
    },
    {
     "data": {
      "image/png": "[encoded data removed]",
      "text/plain": [
       "<Figure size 720x720 with 1 Axes>"
      ]
     },
     "metadata": {},
     "output_type": "display_data"
    }
   ],
   "source": [
    "cp_roc_df = roc_df.copy()\n",
    "cp_roc_df[\"classifier\"] = \"LGB\"\n",
    "cp_roc_df = cp_roc_df.append(pd.DataFrame({\"threshold\":[0,0], \n",
    "                  \"tpr\":[0,1], \"fpr\": [0,1], \n",
    "                  \"classifier\":[\"Random\", \"Random\"]}), ignore_index=True)\n",
    "\n",
    "fig = plt.figure(figsize=(10, 10))\n",
    "sns.lineplot(x=\"fpr\", y=\"tpr\", hue=\"classifier\", style=\"classifier\", data=cp_roc_df)"
   ]
  },
  {
   "cell_type": "code",
   "execution_count": 13,
   "metadata": {},
   "outputs": [
    {
     "data": {
      "text/html": [
       "<div>\n",
       "<style scoped>\n",
       "    .dataframe tbody tr th:only-of-type {\n",
       "        vertical-align: middle;\n",
       "    }\n",
       "\n",
       "    .dataframe tbody tr th {\n",
       "        vertical-align: top;\n",
       "    }\n",
       "\n",
       "    .dataframe thead th {\n",
       "        text-align: right;\n",
       "    }\n",
       "</style>\n",
       "<table border=\"1\" class=\"dataframe\">\n",
       "  <thead>\n",
       "    <tr style=\"text-align: right;\">\n",
       "      <th></th>\n",
       "      <th>threshold</th>\n",
       "      <th>tpr</th>\n",
       "      <th>fpr</th>\n",
       "      <th>optimal</th>\n",
       "    </tr>\n",
       "  </thead>\n",
       "  <tbody>\n",
       "    <tr>\n",
       "      <th>2042</th>\n",
       "      <td>0.415223</td>\n",
       "      <td>0.692562</td>\n",
       "      <td>0.307705</td>\n",
       "      <td>0.000267</td>\n",
       "    </tr>\n",
       "    <tr>\n",
       "      <th>2041</th>\n",
       "      <td>0.415450</td>\n",
       "      <td>0.691800</td>\n",
       "      <td>0.307705</td>\n",
       "      <td>0.000495</td>\n",
       "    </tr>\n",
       "    <tr>\n",
       "      <th>2043</th>\n",
       "      <td>0.415176</td>\n",
       "      <td>0.692562</td>\n",
       "      <td>0.308042</td>\n",
       "      <td>0.000603</td>\n",
       "    </tr>\n",
       "    <tr>\n",
       "      <th>2040</th>\n",
       "      <td>0.415585</td>\n",
       "      <td>0.691800</td>\n",
       "      <td>0.307369</td>\n",
       "      <td>0.000831</td>\n",
       "    </tr>\n",
       "    <tr>\n",
       "      <th>2044</th>\n",
       "      <td>0.415087</td>\n",
       "      <td>0.692815</td>\n",
       "      <td>0.308042</td>\n",
       "      <td>0.000857</td>\n",
       "    </tr>\n",
       "  </tbody>\n",
       "</table>\n",
       "</div>"
      ],
      "text/plain": [
       "      threshold       tpr       fpr   optimal\n",
       "2042   0.415223  0.692562  0.307705  0.000267\n",
       "2041   0.415450  0.691800  0.307705  0.000495\n",
       "2043   0.415176  0.692562  0.308042  0.000603\n",
       "2040   0.415585  0.691800  0.307369  0.000831\n",
       "2044   0.415087  0.692815  0.308042  0.000857"
      ]
     },
     "execution_count": 13,
     "metadata": {},
     "output_type": "execute_result"
    }
   ],
   "source": [
    "roc_df[\"optimal\"] = roc_df[\"tpr\"] - (1 - roc_df[\"fpr\"])\n",
    "roc_df[\"optimal\"] = abs(roc_df[\"optimal\"])\n",
    "roc_df.sort_values(by=\"optimal\").head(5)"
   ]
  },
  {
   "cell_type": "code",
   "execution_count": 14,
   "metadata": {},
   "outputs": [
    {
     "name": "stdout",
     "output_type": "stream",
     "text": [
      "              precision    recall  f1-score   support\n",
      "\n",
      "        fail       0.77      0.69      0.73     58998\n",
      "     success       0.60      0.70      0.65     39829\n",
      "\n",
      "    accuracy                           0.69     98827\n",
      "   macro avg       0.69      0.69      0.69     98827\n",
      "weighted avg       0.70      0.69      0.70     98827\n",
      "\n",
      "0.6937982535137159\n"
     ]
    }
   ],
   "source": [
    "y_pred=[1 if x > 0.415 else 0 for x in clf.predict(X_test)]\n",
    "print(classification_report(y_test, y_pred, target_names=[\"fail\", \"success\"]))\n",
    "print(accuracy_score(y_test, y_pred))"
   ]
  },
  {
   "cell_type": "code",
   "execution_count": 15,
   "metadata": {},
   "outputs": [
    {
     "name": "stdout",
     "output_type": "stream",
     "text": [
      "              precision    recall  f1-score   support\n",
      "\n",
      "        fail       0.73      0.80      0.76     58998\n",
      "     success       0.65      0.56      0.61     39829\n",
      "\n",
      "    accuracy                           0.70     98827\n",
      "   macro avg       0.69      0.68      0.68     98827\n",
      "weighted avg       0.70      0.70      0.70     98827\n",
      "\n",
      "0.7038359962358465\n"
     ]
    }
   ],
   "source": [
    "y_pred=[1 if x > 0.5 else 0 for x in clf.predict(X_test)]\n",
    "print(classification_report(y_test, y_pred, target_names=[\"fail\", \"success\"]))\n",
    "print(accuracy_score(y_test, y_pred))"
   ]
  },
  {
   "cell_type": "markdown",
   "metadata": {},
   "source": [
    "## Plotting feature importance"
   ]
  },
  {
   "cell_type": "code",
   "execution_count": 29,
   "metadata": {},
   "outputs": [
    {
     "data": {
      "text/plain": [
       "<matplotlib.axes._subplots.AxesSubplot at 0x7f33b7a32fd0>"
      ]
     },
     "execution_count": 29,
     "metadata": {},
     "output_type": "execute_result"
    },
    {
     "data": {
      "image/png": "[encoded data removed]",
      "text/plain": [
       "<Figure size 720x720 with 1 Axes>"
      ]
     },
     "metadata": {},
     "output_type": "display_data"
    }
   ],
   "source": [
    "from sklearn.preprocessing import MinMaxScaler\n",
    "mms = MinMaxScaler()\n",
    "feature_df = pd.DataFrame({\n",
    "    \"feature\": X_train.columns,\n",
    "    \"importance\": clf.feature_importance()\n",
    "             })\n",
    "\n",
    "feature_df[[\"importance\"]] = mms.fit_transform(feature_df[[\"importance\"]])\n",
    "feature_df = feature_df.sort_values(by=\"importance\", ascending=False)\n",
    "\n",
    "sns.set_style(\"darkgrid\")\n",
    "fig = plt.figure(figsize=(10, 10))\n",
    "sns.barplot(y=\"feature\", x=\"importance\", data=feature_df, orient=\"h\")"
   ]
  }
 ],
 "metadata": {
  "kernelspec": {
   "display_name": "Python 3",
   "language": "python",
   "name": "python3"
  },
  "language_info": {
   "codemirror_mode": {
    "name": "ipython",
    "version": 3
   },
   "file_extension": ".py",
   "mimetype": "text/x-python",
   "name": "python",
   "nbconvert_exporter": "python",
   "pygments_lexer": "ipython3",
   "version": "3.8.3"
  }
 },
 "nbformat": 4,
 "nbformat_minor": 4
}
